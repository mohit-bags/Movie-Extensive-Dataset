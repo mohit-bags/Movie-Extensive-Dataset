{
 "cells": [
  {
   "cell_type": "code",
   "execution_count": 1,
   "metadata": {},
   "outputs": [],
   "source": [
    "import pandas as pd\n",
    "import numpy as np"
   ]
  },
  {
   "cell_type": "code",
   "execution_count": 2,
   "metadata": {},
   "outputs": [],
   "source": [
    "df_imdb_ratings = pd.read_csv('IMDB_ratings.csv')\n",
    "df_imdb_movies = pd.read_csv('IMDB_movies.csv')\n",
    "df_netflix = pd.read_csv('NETFLIX_TITLES.csv')"
   ]
  },
  {
   "cell_type": "code",
   "execution_count": 3,
   "metadata": {},
   "outputs": [
    {
     "data": {
      "text/plain": [
       "Index(['imdb_title_id', 'weighted_average_vote', 'total_votes', 'mean_vote',\n",
       "       'median_vote', 'votes_10', 'votes_9', 'votes_8', 'votes_7', 'votes_6',\n",
       "       'votes_5', 'votes_4', 'votes_3', 'votes_2', 'votes_1',\n",
       "       'allgenders_0age_avg_vote', 'allgenders_0age_votes',\n",
       "       'allgenders_18age_avg_vote', 'allgenders_18age_votes',\n",
       "       'allgenders_30age_avg_vote', 'allgenders_30age_votes',\n",
       "       'allgenders_45age_avg_vote', 'allgenders_45age_votes',\n",
       "       'males_allages_avg_vote', 'males_allages_votes', 'males_0age_avg_vote',\n",
       "       'males_0age_votes', 'males_18age_avg_vote', 'males_18age_votes',\n",
       "       'males_30age_avg_vote', 'males_30age_votes', 'males_45age_avg_vote',\n",
       "       'males_45age_votes', 'females_allages_avg_vote',\n",
       "       'females_allages_votes', 'females_0age_avg_vote', 'females_0age_votes',\n",
       "       'females_18age_avg_vote', 'females_18age_votes',\n",
       "       'females_30age_avg_vote', 'females_30age_votes',\n",
       "       'females_45age_avg_vote', 'females_45age_votes',\n",
       "       'top1000_voters_rating', 'top1000_voters_votes', 'us_voters_rating',\n",
       "       'us_voters_votes', 'non_us_voters_rating', 'non_us_voters_votes'],\n",
       "      dtype='object')"
      ]
     },
     "execution_count": 3,
     "metadata": {},
     "output_type": "execute_result"
    }
   ],
   "source": [
    "df_imdb_ratings.columns"
   ]
  },
  {
   "cell_type": "code",
   "execution_count": 4,
   "metadata": {},
   "outputs": [
    {
     "data": {
      "text/plain": [
       "Index(['imdb_title_id', 'title', 'original_title', 'year', 'date_published',\n",
       "       'genre', 'duration', 'country', 'language', 'director', 'writer',\n",
       "       'production_company', 'actors', 'description', 'avg_vote', 'votes',\n",
       "       'budget', 'usa_gross_income', 'worlwide_gross_income', 'metascore',\n",
       "       'reviews_from_users', 'reviews_from_critics'],\n",
       "      dtype='object')"
      ]
     },
     "execution_count": 4,
     "metadata": {},
     "output_type": "execute_result"
    }
   ],
   "source": [
    "df_imdb_movies.columns"
   ]
  },
  {
   "cell_type": "code",
   "execution_count": 5,
   "metadata": {},
   "outputs": [
    {
     "data": {
      "text/plain": [
       "Index(['show_id', 'type', 'title', 'director', 'cast', 'country', 'date_added',\n",
       "       'release_year', 'rating', 'duration', 'listed_in', 'description'],\n",
       "      dtype='object')"
      ]
     },
     "execution_count": 5,
     "metadata": {},
     "output_type": "execute_result"
    }
   ],
   "source": [
    "df_netflix.columns"
   ]
  },
  {
   "cell_type": "code",
   "execution_count": 6,
   "metadata": {},
   "outputs": [
    {
     "data": {
      "text/plain": [
       "(4675, 12)"
      ]
     },
     "execution_count": 6,
     "metadata": {},
     "output_type": "execute_result"
    }
   ],
   "source": [
    "df_netflix.shape"
   ]
  },
  {
   "cell_type": "code",
   "execution_count": 7,
   "metadata": {},
   "outputs": [
    {
     "data": {
      "text/plain": [
       "(59164, 22)"
      ]
     },
     "execution_count": 7,
     "metadata": {},
     "output_type": "execute_result"
    }
   ],
   "source": [
    "df_imdb_movies.shape"
   ]
  },
  {
   "cell_type": "code",
   "execution_count": 8,
   "metadata": {},
   "outputs": [
    {
     "data": {
      "text/plain": [
       "show_id            0\n",
       "type               0\n",
       "title              0\n",
       "director        1443\n",
       "cast             439\n",
       "country          349\n",
       "date_added         6\n",
       "release_year       0\n",
       "rating             8\n",
       "duration           0\n",
       "listed_in          0\n",
       "description        0\n",
       "dtype: int64"
      ]
     },
     "execution_count": 8,
     "metadata": {},
     "output_type": "execute_result"
    }
   ],
   "source": [
    "df_netflix.isna().sum()"
   ]
  },
  {
   "cell_type": "code",
   "execution_count": 10,
   "metadata": {},
   "outputs": [
    {
     "data": {
      "text/plain": [
       "show_id         4675\n",
       "type               2\n",
       "title           4643\n",
       "director        2605\n",
       "cast            4116\n",
       "country          454\n",
       "date_added      1347\n",
       "release_year      68\n",
       "rating            14\n",
       "duration         191\n",
       "listed_in        421\n",
       "description     4671\n",
       "dtype: int64"
      ]
     },
     "execution_count": 10,
     "metadata": {},
     "output_type": "execute_result"
    }
   ],
   "source": [
    "df_netflix.nunique()"
   ]
  },
  {
   "cell_type": "code",
   "execution_count": 11,
   "metadata": {},
   "outputs": [],
   "source": [
    "df_netflix = df_netflix[df_netflix['country'].notnull()]"
   ]
  },
  {
   "cell_type": "code",
   "execution_count": 12,
   "metadata": {},
   "outputs": [],
   "source": [
    "df_netflix['country']=df_netflix['country'].astype('str')\n"
   ]
  },
  {
   "cell_type": "code",
   "execution_count": 14,
   "metadata": {},
   "outputs": [],
   "source": [
    "import plotly.express as px\n",
    "import plotly.figure_factory as ff\n",
    "import seaborn as sns\n",
    "import matplotlib.pyplot as plt"
   ]
  },
  {
   "cell_type": "markdown",
   "metadata": {},
   "source": [
    "### DATA Cleaning"
   ]
  },
  {
   "cell_type": "markdown",
   "metadata": {},
   "source": [
    "### Which country creates highest content on netflix?"
   ]
  },
  {
   "cell_type": "code",
   "execution_count": 15,
   "metadata": {},
   "outputs": [
    {
     "data": {
      "text/plain": [
       "United States                    1558\n",
       "India                             594\n",
       "United Kingdom                    255\n",
       "Japan                             135\n",
       "Canada                            105\n",
       "South Korea                        97\n",
       "Spain                              77\n",
       "France                             68\n",
       "Turkey                             60\n",
       "Mexico                             54\n",
       "Australia                          52\n",
       "Taiwan                             48\n",
       "United Kingdom, United States      40\n",
       "Brazil                             39\n",
       "Egypt                              39\n",
       "Hong Kong                          36\n",
       "Thailand                           36\n",
       "Indonesia                          36\n",
       "United States, Canada              33\n",
       "China                              32\n",
       "Name: country, dtype: int64"
      ]
     },
     "execution_count": 15,
     "metadata": {},
     "output_type": "execute_result"
    }
   ],
   "source": [
    "df_netflix['country'].value_counts().head(20)"
   ]
  },
  {
   "cell_type": "code",
   "execution_count": 83,
   "metadata": {},
   "outputs": [
    {
     "data": {
      "text/plain": [
       "<matplotlib.axes._subplots.AxesSubplot at 0x7ff4680cb5c0>"
      ]
     },
     "execution_count": 83,
     "metadata": {},
     "output_type": "execute_result"
    },
    {
     "data": {
      "image/png": "[encoded data removed]",
      "text/plain": [
       "<Figure size 432x288 with 1 Axes>"
      ]
     },
     "metadata": {
      "needs_background": "light"
     },
     "output_type": "display_data"
    }
   ],
   "source": [
    "temp = df_netflix['country'].value_counts()\n",
    "temp2 = temp.head(10)\n",
    "temp2.plot(kind='bar')"
   ]
  },
  {
   "cell_type": "markdown",
   "metadata": {},
   "source": [
    "Ans: <b>UNITED STATES</b>"
   ]
  },
  {
   "cell_type": "code",
   "execution_count": 16,
   "metadata": {},
   "outputs": [
    {
     "name": "stdout",
     "output_type": "stream",
     "text": [
      "<class 'pandas.core.frame.DataFrame'>\n",
      "Int64Index: 4326 entries, 0 to 4673\n",
      "Data columns (total 12 columns):\n",
      "show_id         4326 non-null int64\n",
      "type            4326 non-null object\n",
      "title           4326 non-null object\n",
      "director        3109 non-null object\n",
      "cast            3955 non-null object\n",
      "country         4326 non-null object\n",
      "date_added      4321 non-null object\n",
      "release_year    4326 non-null int64\n",
      "rating          4322 non-null object\n",
      "duration        4326 non-null object\n",
      "listed_in       4326 non-null object\n",
      "description     4326 non-null object\n",
      "dtypes: int64(2), object(10)\n",
      "memory usage: 439.4+ KB\n"
     ]
    }
   ],
   "source": [
    "df_netflix.info()"
   ]
  },
  {
   "cell_type": "code",
   "execution_count": 17,
   "metadata": {},
   "outputs": [],
   "source": [
    "datacopy=df_netflix"
   ]
  },
  {
   "cell_type": "code",
   "execution_count": 18,
   "metadata": {},
   "outputs": [],
   "source": [
    "datacopy['date_added'] = datacopy['date_added'].astype('datetime64[ns]')"
   ]
  },
  {
   "cell_type": "code",
   "execution_count": 19,
   "metadata": {},
   "outputs": [],
   "source": [
    "from datetime import time\n",
    "def conv_dates_series(df, col, old_date_format, new_date_format):\n",
    "    df[col] = pd.to_datetime(df[col], format=old_date_format).dt.strftime(new_date_format)\n",
    "    return(df)\n",
    "old_date_format='%B %d, %Y'\n",
    "new_date_format='%B'\n",
    "datacopy=conv_dates_series(datacopy, \"date_added\", old_date_format, new_date_format)"
   ]
  },
  {
   "cell_type": "code",
   "execution_count": 20,
   "metadata": {},
   "outputs": [
    {
     "data": {
      "text/plain": [
       "December     477\n",
       "October      447\n",
       "November     437\n",
       "January      434\n",
       "March        386\n",
       "August       340\n",
       "April        328\n",
       "July         317\n",
       "September    316\n",
       "May          293\n",
       "February     281\n",
       "June         265\n",
       "Name: date_added, dtype: int64"
      ]
     },
     "execution_count": 20,
     "metadata": {},
     "output_type": "execute_result"
    }
   ],
   "source": [
    "temp = datacopy['date_added'].value_counts()\n",
    "temp2 = temp.head(12)\n",
    "temp2"
   ]
  },
  {
   "cell_type": "code",
   "execution_count": 21,
   "metadata": {},
   "outputs": [],
   "source": [
    "datacopy=df_imdb_movies"
   ]
  },
  {
   "cell_type": "code",
   "execution_count": 22,
   "metadata": {},
   "outputs": [],
   "source": [
    "datacopy['date_published'] = datacopy['date_published'].astype('datetime64[ns]')"
   ]
  },
  {
   "cell_type": "code",
   "execution_count": 23,
   "metadata": {},
   "outputs": [],
   "source": [
    "from datetime import time\n",
    "def conv_dates_series(df, col, old_date_format, new_date_format):\n",
    "    df[col] = pd.to_datetime(df[col], format=old_date_format).dt.strftime(new_date_format)\n",
    "    return(df)\n",
    "old_date_format='%Y-%m-%d'\n",
    "new_date_format='%B'\n",
    "datacopy=conv_dates_series(datacopy, \"date_published\", old_date_format, new_date_format)"
   ]
  },
  {
   "cell_type": "code",
   "execution_count": 24,
   "metadata": {},
   "outputs": [
    {
     "data": {
      "text/plain": [
       "January      7393\n",
       "October      6041\n",
       "September    5617\n",
       "March        5119\n",
       "April        4952\n",
       "November     4913\n",
       "December     4467\n",
       "February     4373\n",
       "May          4313\n",
       "August       4313\n",
       "June         4004\n",
       "July         3659\n",
       "Name: date_published, dtype: int64"
      ]
     },
     "execution_count": 24,
     "metadata": {},
     "output_type": "execute_result"
    }
   ],
   "source": [
    "temp = datacopy['date_published'].value_counts()\n",
    "temp"
   ]
  },
  {
   "cell_type": "markdown",
   "metadata": {},
   "source": [
    "### If a producer wants to release some content, which month must he do so?( Month when least amount of content is added)\n",
    "Least content has been released in the month of <b>JULY</b> according to IMDB Movies data and for Netflix Titles it is <b>JUNE</b>"
   ]
  },
  {
   "cell_type": "code",
   "execution_count": 25,
   "metadata": {},
   "outputs": [],
   "source": [
    "tv_series = df_netflix[df_netflix['type']=='TV Show']"
   ]
  },
  {
   "cell_type": "code",
   "execution_count": 26,
   "metadata": {},
   "outputs": [
    {
     "data": {
      "text/plain": [
       "array(['4 Seasons', '1 Season', '7 Seasons', '2 Seasons', '5 Seasons',\n",
       "       '3 Seasons', '9 Seasons', '8 Seasons', '6 Seasons', '12 Seasons',\n",
       "       '15 Seasons', '10 Seasons', '14 Seasons', '11 Seasons',\n",
       "       '13 Seasons'], dtype=object)"
      ]
     },
     "execution_count": 26,
     "metadata": {},
     "output_type": "execute_result"
    }
   ],
   "source": [
    "tv_series['duration'].unique()"
   ]
  },
  {
   "cell_type": "code",
   "execution_count": 27,
   "metadata": {},
   "outputs": [
    {
     "name": "stdout",
     "output_type": "stream",
     "text": [
      "[\"Grey's Anatomy\" 'NCIS']\n"
     ]
    }
   ],
   "source": [
    "print(tv_series[tv_series['duration']=='15 Seasons'].title.unique())"
   ]
  },
  {
   "cell_type": "code",
   "execution_count": 28,
   "metadata": {},
   "outputs": [
    {
     "data": {
      "text/plain": [
       "20850    The Clock\n",
       "Name: title, dtype: object"
      ]
     },
     "execution_count": 28,
     "metadata": {},
     "output_type": "execute_result"
    }
   ],
   "source": [
    "df_imdb_movies[df_imdb_movies.duration.max()==df_imdb_movies.duration].title"
   ]
  },
  {
   "cell_type": "markdown",
   "metadata": {},
   "source": [
    "### Which tv series has the highest number of seasons?\n",
    "<li><b>Grey's Anatomy</b> and <b>'NCIS'</b> has highest number of Seasons in NETFLIX TITLES data</li>\n",
    "\n",
    "<li><b>The Clock</b> has highest number of Seasons in IMDB Movies data</li>"
   ]
  },
  {
   "cell_type": "code",
   "execution_count": 29,
   "metadata": {},
   "outputs": [],
   "source": [
    "df = df_imdb_movies[['title','year', 'genre', 'duration', 'country', 'director', 'writer', 'production_company', 'actors', 'avg_vote']] #keep the wanted column"
   ]
  },
  {
   "cell_type": "code",
   "execution_count": 30,
   "metadata": {},
   "outputs": [
    {
     "name": "stdout",
     "output_type": "stream",
     "text": [
      "Years in which the cotent was released ranges from 1906 to 2019\n"
     ]
    }
   ],
   "source": [
    "print(\"Years in which the cotent was released ranges from\",df['year'].min(),\"to\",df['year'].max())"
   ]
  },
  {
   "cell_type": "code",
   "execution_count": 31,
   "metadata": {},
   "outputs": [],
   "source": [
    "years_grouped = df.groupby('year').count()"
   ]
  },
  {
   "cell_type": "code",
   "execution_count": 32,
   "metadata": {},
   "outputs": [
    {
     "data": {
      "text/html": [
       "<div>\n",
       "<style scoped>\n",
       "    .dataframe tbody tr th:only-of-type {\n",
       "        vertical-align: middle;\n",
       "    }\n",
       "\n",
       "    .dataframe tbody tr th {\n",
       "        vertical-align: top;\n",
       "    }\n",
       "\n",
       "    .dataframe thead th {\n",
       "        text-align: right;\n",
       "    }\n",
       "</style>\n",
       "<table border=\"1\" class=\"dataframe\">\n",
       "  <thead>\n",
       "    <tr style=\"text-align: right;\">\n",
       "      <th></th>\n",
       "      <th>title</th>\n",
       "      <th>genre</th>\n",
       "      <th>duration</th>\n",
       "      <th>country</th>\n",
       "      <th>director</th>\n",
       "      <th>writer</th>\n",
       "      <th>production_company</th>\n",
       "      <th>actors</th>\n",
       "      <th>avg_vote</th>\n",
       "    </tr>\n",
       "    <tr>\n",
       "      <th>year</th>\n",
       "      <th></th>\n",
       "      <th></th>\n",
       "      <th></th>\n",
       "      <th></th>\n",
       "      <th></th>\n",
       "      <th></th>\n",
       "      <th></th>\n",
       "      <th></th>\n",
       "      <th></th>\n",
       "    </tr>\n",
       "  </thead>\n",
       "  <tbody>\n",
       "    <tr>\n",
       "      <th>1906</th>\n",
       "      <td>1</td>\n",
       "      <td>1</td>\n",
       "      <td>1</td>\n",
       "      <td>1</td>\n",
       "      <td>1</td>\n",
       "      <td>1</td>\n",
       "      <td>1</td>\n",
       "      <td>1</td>\n",
       "      <td>1</td>\n",
       "    </tr>\n",
       "    <tr>\n",
       "      <th>1911</th>\n",
       "      <td>2</td>\n",
       "      <td>2</td>\n",
       "      <td>2</td>\n",
       "      <td>2</td>\n",
       "      <td>2</td>\n",
       "      <td>2</td>\n",
       "      <td>1</td>\n",
       "      <td>2</td>\n",
       "      <td>2</td>\n",
       "    </tr>\n",
       "    <tr>\n",
       "      <th>1912</th>\n",
       "      <td>5</td>\n",
       "      <td>5</td>\n",
       "      <td>5</td>\n",
       "      <td>5</td>\n",
       "      <td>5</td>\n",
       "      <td>5</td>\n",
       "      <td>5</td>\n",
       "      <td>5</td>\n",
       "      <td>5</td>\n",
       "    </tr>\n",
       "    <tr>\n",
       "      <th>1913</th>\n",
       "      <td>7</td>\n",
       "      <td>7</td>\n",
       "      <td>7</td>\n",
       "      <td>7</td>\n",
       "      <td>7</td>\n",
       "      <td>7</td>\n",
       "      <td>7</td>\n",
       "      <td>7</td>\n",
       "      <td>7</td>\n",
       "    </tr>\n",
       "    <tr>\n",
       "      <th>1914</th>\n",
       "      <td>17</td>\n",
       "      <td>17</td>\n",
       "      <td>17</td>\n",
       "      <td>17</td>\n",
       "      <td>17</td>\n",
       "      <td>17</td>\n",
       "      <td>17</td>\n",
       "      <td>17</td>\n",
       "      <td>17</td>\n",
       "    </tr>\n",
       "    <tr>\n",
       "      <th>1915</th>\n",
       "      <td>15</td>\n",
       "      <td>15</td>\n",
       "      <td>15</td>\n",
       "      <td>15</td>\n",
       "      <td>15</td>\n",
       "      <td>15</td>\n",
       "      <td>15</td>\n",
       "      <td>15</td>\n",
       "      <td>15</td>\n",
       "    </tr>\n",
       "    <tr>\n",
       "      <th>1916</th>\n",
       "      <td>25</td>\n",
       "      <td>25</td>\n",
       "      <td>25</td>\n",
       "      <td>25</td>\n",
       "      <td>25</td>\n",
       "      <td>25</td>\n",
       "      <td>24</td>\n",
       "      <td>25</td>\n",
       "      <td>25</td>\n",
       "    </tr>\n",
       "    <tr>\n",
       "      <th>1917</th>\n",
       "      <td>18</td>\n",
       "      <td>18</td>\n",
       "      <td>18</td>\n",
       "      <td>18</td>\n",
       "      <td>18</td>\n",
       "      <td>18</td>\n",
       "      <td>17</td>\n",
       "      <td>18</td>\n",
       "      <td>18</td>\n",
       "    </tr>\n",
       "    <tr>\n",
       "      <th>1918</th>\n",
       "      <td>20</td>\n",
       "      <td>20</td>\n",
       "      <td>20</td>\n",
       "      <td>20</td>\n",
       "      <td>20</td>\n",
       "      <td>20</td>\n",
       "      <td>20</td>\n",
       "      <td>20</td>\n",
       "      <td>20</td>\n",
       "    </tr>\n",
       "    <tr>\n",
       "      <th>1919</th>\n",
       "      <td>38</td>\n",
       "      <td>38</td>\n",
       "      <td>38</td>\n",
       "      <td>38</td>\n",
       "      <td>38</td>\n",
       "      <td>38</td>\n",
       "      <td>38</td>\n",
       "      <td>38</td>\n",
       "      <td>38</td>\n",
       "    </tr>\n",
       "    <tr>\n",
       "      <th>1920</th>\n",
       "      <td>32</td>\n",
       "      <td>32</td>\n",
       "      <td>32</td>\n",
       "      <td>32</td>\n",
       "      <td>32</td>\n",
       "      <td>32</td>\n",
       "      <td>30</td>\n",
       "      <td>32</td>\n",
       "      <td>32</td>\n",
       "    </tr>\n",
       "    <tr>\n",
       "      <th>1921</th>\n",
       "      <td>36</td>\n",
       "      <td>36</td>\n",
       "      <td>36</td>\n",
       "      <td>36</td>\n",
       "      <td>36</td>\n",
       "      <td>36</td>\n",
       "      <td>36</td>\n",
       "      <td>36</td>\n",
       "      <td>36</td>\n",
       "    </tr>\n",
       "    <tr>\n",
       "      <th>1922</th>\n",
       "      <td>28</td>\n",
       "      <td>28</td>\n",
       "      <td>28</td>\n",
       "      <td>28</td>\n",
       "      <td>28</td>\n",
       "      <td>28</td>\n",
       "      <td>28</td>\n",
       "      <td>28</td>\n",
       "      <td>28</td>\n",
       "    </tr>\n",
       "    <tr>\n",
       "      <th>1923</th>\n",
       "      <td>27</td>\n",
       "      <td>27</td>\n",
       "      <td>27</td>\n",
       "      <td>27</td>\n",
       "      <td>27</td>\n",
       "      <td>26</td>\n",
       "      <td>27</td>\n",
       "      <td>27</td>\n",
       "      <td>27</td>\n",
       "    </tr>\n",
       "    <tr>\n",
       "      <th>1924</th>\n",
       "      <td>35</td>\n",
       "      <td>35</td>\n",
       "      <td>35</td>\n",
       "      <td>35</td>\n",
       "      <td>35</td>\n",
       "      <td>35</td>\n",
       "      <td>35</td>\n",
       "      <td>35</td>\n",
       "      <td>35</td>\n",
       "    </tr>\n",
       "    <tr>\n",
       "      <th>1925</th>\n",
       "      <td>53</td>\n",
       "      <td>53</td>\n",
       "      <td>53</td>\n",
       "      <td>53</td>\n",
       "      <td>53</td>\n",
       "      <td>53</td>\n",
       "      <td>53</td>\n",
       "      <td>53</td>\n",
       "      <td>53</td>\n",
       "    </tr>\n",
       "    <tr>\n",
       "      <th>1926</th>\n",
       "      <td>54</td>\n",
       "      <td>54</td>\n",
       "      <td>54</td>\n",
       "      <td>54</td>\n",
       "      <td>54</td>\n",
       "      <td>53</td>\n",
       "      <td>53</td>\n",
       "      <td>54</td>\n",
       "      <td>54</td>\n",
       "    </tr>\n",
       "    <tr>\n",
       "      <th>1927</th>\n",
       "      <td>55</td>\n",
       "      <td>55</td>\n",
       "      <td>55</td>\n",
       "      <td>55</td>\n",
       "      <td>55</td>\n",
       "      <td>55</td>\n",
       "      <td>55</td>\n",
       "      <td>55</td>\n",
       "      <td>55</td>\n",
       "    </tr>\n",
       "    <tr>\n",
       "      <th>1928</th>\n",
       "      <td>69</td>\n",
       "      <td>69</td>\n",
       "      <td>69</td>\n",
       "      <td>69</td>\n",
       "      <td>69</td>\n",
       "      <td>69</td>\n",
       "      <td>69</td>\n",
       "      <td>69</td>\n",
       "      <td>69</td>\n",
       "    </tr>\n",
       "    <tr>\n",
       "      <th>1929</th>\n",
       "      <td>88</td>\n",
       "      <td>88</td>\n",
       "      <td>88</td>\n",
       "      <td>88</td>\n",
       "      <td>88</td>\n",
       "      <td>87</td>\n",
       "      <td>88</td>\n",
       "      <td>88</td>\n",
       "      <td>88</td>\n",
       "    </tr>\n",
       "    <tr>\n",
       "      <th>1930</th>\n",
       "      <td>127</td>\n",
       "      <td>127</td>\n",
       "      <td>127</td>\n",
       "      <td>126</td>\n",
       "      <td>126</td>\n",
       "      <td>126</td>\n",
       "      <td>125</td>\n",
       "      <td>126</td>\n",
       "      <td>127</td>\n",
       "    </tr>\n",
       "    <tr>\n",
       "      <th>1931</th>\n",
       "      <td>164</td>\n",
       "      <td>164</td>\n",
       "      <td>164</td>\n",
       "      <td>164</td>\n",
       "      <td>164</td>\n",
       "      <td>164</td>\n",
       "      <td>164</td>\n",
       "      <td>164</td>\n",
       "      <td>164</td>\n",
       "    </tr>\n",
       "    <tr>\n",
       "      <th>1932</th>\n",
       "      <td>168</td>\n",
       "      <td>168</td>\n",
       "      <td>168</td>\n",
       "      <td>168</td>\n",
       "      <td>168</td>\n",
       "      <td>168</td>\n",
       "      <td>168</td>\n",
       "      <td>168</td>\n",
       "      <td>168</td>\n",
       "    </tr>\n",
       "    <tr>\n",
       "      <th>1933</th>\n",
       "      <td>186</td>\n",
       "      <td>186</td>\n",
       "      <td>186</td>\n",
       "      <td>186</td>\n",
       "      <td>186</td>\n",
       "      <td>185</td>\n",
       "      <td>185</td>\n",
       "      <td>186</td>\n",
       "      <td>186</td>\n",
       "    </tr>\n",
       "    <tr>\n",
       "      <th>1934</th>\n",
       "      <td>189</td>\n",
       "      <td>189</td>\n",
       "      <td>189</td>\n",
       "      <td>189</td>\n",
       "      <td>189</td>\n",
       "      <td>187</td>\n",
       "      <td>188</td>\n",
       "      <td>189</td>\n",
       "      <td>189</td>\n",
       "    </tr>\n",
       "    <tr>\n",
       "      <th>1935</th>\n",
       "      <td>193</td>\n",
       "      <td>193</td>\n",
       "      <td>193</td>\n",
       "      <td>193</td>\n",
       "      <td>193</td>\n",
       "      <td>191</td>\n",
       "      <td>193</td>\n",
       "      <td>193</td>\n",
       "      <td>193</td>\n",
       "    </tr>\n",
       "    <tr>\n",
       "      <th>1936</th>\n",
       "      <td>207</td>\n",
       "      <td>207</td>\n",
       "      <td>207</td>\n",
       "      <td>207</td>\n",
       "      <td>207</td>\n",
       "      <td>205</td>\n",
       "      <td>207</td>\n",
       "      <td>207</td>\n",
       "      <td>207</td>\n",
       "    </tr>\n",
       "    <tr>\n",
       "      <th>1937</th>\n",
       "      <td>214</td>\n",
       "      <td>214</td>\n",
       "      <td>214</td>\n",
       "      <td>214</td>\n",
       "      <td>214</td>\n",
       "      <td>214</td>\n",
       "      <td>212</td>\n",
       "      <td>214</td>\n",
       "      <td>214</td>\n",
       "    </tr>\n",
       "    <tr>\n",
       "      <th>1938</th>\n",
       "      <td>186</td>\n",
       "      <td>186</td>\n",
       "      <td>186</td>\n",
       "      <td>186</td>\n",
       "      <td>186</td>\n",
       "      <td>186</td>\n",
       "      <td>185</td>\n",
       "      <td>186</td>\n",
       "      <td>186</td>\n",
       "    </tr>\n",
       "    <tr>\n",
       "      <th>1939</th>\n",
       "      <td>215</td>\n",
       "      <td>215</td>\n",
       "      <td>215</td>\n",
       "      <td>215</td>\n",
       "      <td>214</td>\n",
       "      <td>214</td>\n",
       "      <td>214</td>\n",
       "      <td>215</td>\n",
       "      <td>215</td>\n",
       "    </tr>\n",
       "    <tr>\n",
       "      <th>...</th>\n",
       "      <td>...</td>\n",
       "      <td>...</td>\n",
       "      <td>...</td>\n",
       "      <td>...</td>\n",
       "      <td>...</td>\n",
       "      <td>...</td>\n",
       "      <td>...</td>\n",
       "      <td>...</td>\n",
       "      <td>...</td>\n",
       "    </tr>\n",
       "    <tr>\n",
       "      <th>1990</th>\n",
       "      <td>571</td>\n",
       "      <td>571</td>\n",
       "      <td>571</td>\n",
       "      <td>571</td>\n",
       "      <td>569</td>\n",
       "      <td>560</td>\n",
       "      <td>528</td>\n",
       "      <td>570</td>\n",
       "      <td>571</td>\n",
       "    </tr>\n",
       "    <tr>\n",
       "      <th>1991</th>\n",
       "      <td>544</td>\n",
       "      <td>544</td>\n",
       "      <td>544</td>\n",
       "      <td>544</td>\n",
       "      <td>544</td>\n",
       "      <td>534</td>\n",
       "      <td>498</td>\n",
       "      <td>544</td>\n",
       "      <td>544</td>\n",
       "    </tr>\n",
       "    <tr>\n",
       "      <th>1992</th>\n",
       "      <td>568</td>\n",
       "      <td>568</td>\n",
       "      <td>568</td>\n",
       "      <td>568</td>\n",
       "      <td>568</td>\n",
       "      <td>545</td>\n",
       "      <td>508</td>\n",
       "      <td>568</td>\n",
       "      <td>568</td>\n",
       "    </tr>\n",
       "    <tr>\n",
       "      <th>1993</th>\n",
       "      <td>574</td>\n",
       "      <td>574</td>\n",
       "      <td>574</td>\n",
       "      <td>574</td>\n",
       "      <td>574</td>\n",
       "      <td>556</td>\n",
       "      <td>530</td>\n",
       "      <td>574</td>\n",
       "      <td>574</td>\n",
       "    </tr>\n",
       "    <tr>\n",
       "      <th>1994</th>\n",
       "      <td>649</td>\n",
       "      <td>649</td>\n",
       "      <td>649</td>\n",
       "      <td>649</td>\n",
       "      <td>649</td>\n",
       "      <td>638</td>\n",
       "      <td>602</td>\n",
       "      <td>649</td>\n",
       "      <td>649</td>\n",
       "    </tr>\n",
       "    <tr>\n",
       "      <th>1995</th>\n",
       "      <td>677</td>\n",
       "      <td>677</td>\n",
       "      <td>677</td>\n",
       "      <td>677</td>\n",
       "      <td>676</td>\n",
       "      <td>669</td>\n",
       "      <td>627</td>\n",
       "      <td>677</td>\n",
       "      <td>677</td>\n",
       "    </tr>\n",
       "    <tr>\n",
       "      <th>1996</th>\n",
       "      <td>687</td>\n",
       "      <td>687</td>\n",
       "      <td>687</td>\n",
       "      <td>687</td>\n",
       "      <td>687</td>\n",
       "      <td>679</td>\n",
       "      <td>628</td>\n",
       "      <td>687</td>\n",
       "      <td>687</td>\n",
       "    </tr>\n",
       "    <tr>\n",
       "      <th>1997</th>\n",
       "      <td>801</td>\n",
       "      <td>801</td>\n",
       "      <td>801</td>\n",
       "      <td>801</td>\n",
       "      <td>801</td>\n",
       "      <td>788</td>\n",
       "      <td>743</td>\n",
       "      <td>801</td>\n",
       "      <td>801</td>\n",
       "    </tr>\n",
       "    <tr>\n",
       "      <th>1998</th>\n",
       "      <td>832</td>\n",
       "      <td>832</td>\n",
       "      <td>832</td>\n",
       "      <td>832</td>\n",
       "      <td>831</td>\n",
       "      <td>815</td>\n",
       "      <td>762</td>\n",
       "      <td>832</td>\n",
       "      <td>832</td>\n",
       "    </tr>\n",
       "    <tr>\n",
       "      <th>1999</th>\n",
       "      <td>999</td>\n",
       "      <td>999</td>\n",
       "      <td>999</td>\n",
       "      <td>999</td>\n",
       "      <td>996</td>\n",
       "      <td>972</td>\n",
       "      <td>906</td>\n",
       "      <td>998</td>\n",
       "      <td>999</td>\n",
       "    </tr>\n",
       "    <tr>\n",
       "      <th>2000</th>\n",
       "      <td>950</td>\n",
       "      <td>950</td>\n",
       "      <td>950</td>\n",
       "      <td>950</td>\n",
       "      <td>950</td>\n",
       "      <td>933</td>\n",
       "      <td>883</td>\n",
       "      <td>950</td>\n",
       "      <td>950</td>\n",
       "    </tr>\n",
       "    <tr>\n",
       "      <th>2001</th>\n",
       "      <td>1070</td>\n",
       "      <td>1070</td>\n",
       "      <td>1070</td>\n",
       "      <td>1070</td>\n",
       "      <td>1069</td>\n",
       "      <td>1051</td>\n",
       "      <td>995</td>\n",
       "      <td>1070</td>\n",
       "      <td>1070</td>\n",
       "    </tr>\n",
       "    <tr>\n",
       "      <th>2002</th>\n",
       "      <td>997</td>\n",
       "      <td>997</td>\n",
       "      <td>997</td>\n",
       "      <td>997</td>\n",
       "      <td>996</td>\n",
       "      <td>980</td>\n",
       "      <td>936</td>\n",
       "      <td>997</td>\n",
       "      <td>997</td>\n",
       "    </tr>\n",
       "    <tr>\n",
       "      <th>2003</th>\n",
       "      <td>1022</td>\n",
       "      <td>1022</td>\n",
       "      <td>1022</td>\n",
       "      <td>1022</td>\n",
       "      <td>1021</td>\n",
       "      <td>1000</td>\n",
       "      <td>950</td>\n",
       "      <td>1022</td>\n",
       "      <td>1022</td>\n",
       "    </tr>\n",
       "    <tr>\n",
       "      <th>2004</th>\n",
       "      <td>1199</td>\n",
       "      <td>1199</td>\n",
       "      <td>1199</td>\n",
       "      <td>1199</td>\n",
       "      <td>1198</td>\n",
       "      <td>1180</td>\n",
       "      <td>1126</td>\n",
       "      <td>1199</td>\n",
       "      <td>1199</td>\n",
       "    </tr>\n",
       "    <tr>\n",
       "      <th>2005</th>\n",
       "      <td>1317</td>\n",
       "      <td>1317</td>\n",
       "      <td>1317</td>\n",
       "      <td>1317</td>\n",
       "      <td>1317</td>\n",
       "      <td>1292</td>\n",
       "      <td>1246</td>\n",
       "      <td>1317</td>\n",
       "      <td>1317</td>\n",
       "    </tr>\n",
       "    <tr>\n",
       "      <th>2006</th>\n",
       "      <td>1496</td>\n",
       "      <td>1496</td>\n",
       "      <td>1496</td>\n",
       "      <td>1496</td>\n",
       "      <td>1496</td>\n",
       "      <td>1473</td>\n",
       "      <td>1448</td>\n",
       "      <td>1494</td>\n",
       "      <td>1496</td>\n",
       "    </tr>\n",
       "    <tr>\n",
       "      <th>2007</th>\n",
       "      <td>1483</td>\n",
       "      <td>1483</td>\n",
       "      <td>1483</td>\n",
       "      <td>1483</td>\n",
       "      <td>1482</td>\n",
       "      <td>1464</td>\n",
       "      <td>1432</td>\n",
       "      <td>1481</td>\n",
       "      <td>1483</td>\n",
       "    </tr>\n",
       "    <tr>\n",
       "      <th>2008</th>\n",
       "      <td>1567</td>\n",
       "      <td>1567</td>\n",
       "      <td>1567</td>\n",
       "      <td>1567</td>\n",
       "      <td>1566</td>\n",
       "      <td>1534</td>\n",
       "      <td>1503</td>\n",
       "      <td>1567</td>\n",
       "      <td>1567</td>\n",
       "    </tr>\n",
       "    <tr>\n",
       "      <th>2009</th>\n",
       "      <td>1648</td>\n",
       "      <td>1648</td>\n",
       "      <td>1648</td>\n",
       "      <td>1648</td>\n",
       "      <td>1646</td>\n",
       "      <td>1629</td>\n",
       "      <td>1595</td>\n",
       "      <td>1646</td>\n",
       "      <td>1648</td>\n",
       "    </tr>\n",
       "    <tr>\n",
       "      <th>2010</th>\n",
       "      <td>1640</td>\n",
       "      <td>1640</td>\n",
       "      <td>1640</td>\n",
       "      <td>1640</td>\n",
       "      <td>1638</td>\n",
       "      <td>1609</td>\n",
       "      <td>1541</td>\n",
       "      <td>1638</td>\n",
       "      <td>1640</td>\n",
       "    </tr>\n",
       "    <tr>\n",
       "      <th>2011</th>\n",
       "      <td>1695</td>\n",
       "      <td>1695</td>\n",
       "      <td>1695</td>\n",
       "      <td>1695</td>\n",
       "      <td>1694</td>\n",
       "      <td>1663</td>\n",
       "      <td>1588</td>\n",
       "      <td>1694</td>\n",
       "      <td>1695</td>\n",
       "    </tr>\n",
       "    <tr>\n",
       "      <th>2012</th>\n",
       "      <td>1805</td>\n",
       "      <td>1805</td>\n",
       "      <td>1805</td>\n",
       "      <td>1805</td>\n",
       "      <td>1801</td>\n",
       "      <td>1773</td>\n",
       "      <td>1683</td>\n",
       "      <td>1804</td>\n",
       "      <td>1805</td>\n",
       "    </tr>\n",
       "    <tr>\n",
       "      <th>2013</th>\n",
       "      <td>2013</td>\n",
       "      <td>2013</td>\n",
       "      <td>2013</td>\n",
       "      <td>2011</td>\n",
       "      <td>2010</td>\n",
       "      <td>1969</td>\n",
       "      <td>1885</td>\n",
       "      <td>2011</td>\n",
       "      <td>2013</td>\n",
       "    </tr>\n",
       "    <tr>\n",
       "      <th>2014</th>\n",
       "      <td>2081</td>\n",
       "      <td>2081</td>\n",
       "      <td>2081</td>\n",
       "      <td>2077</td>\n",
       "      <td>2074</td>\n",
       "      <td>2023</td>\n",
       "      <td>1938</td>\n",
       "      <td>2077</td>\n",
       "      <td>2081</td>\n",
       "    </tr>\n",
       "    <tr>\n",
       "      <th>2015</th>\n",
       "      <td>2132</td>\n",
       "      <td>2132</td>\n",
       "      <td>2132</td>\n",
       "      <td>2129</td>\n",
       "      <td>2128</td>\n",
       "      <td>2080</td>\n",
       "      <td>1990</td>\n",
       "      <td>2131</td>\n",
       "      <td>2132</td>\n",
       "    </tr>\n",
       "    <tr>\n",
       "      <th>2016</th>\n",
       "      <td>2225</td>\n",
       "      <td>2225</td>\n",
       "      <td>2225</td>\n",
       "      <td>2222</td>\n",
       "      <td>2219</td>\n",
       "      <td>2176</td>\n",
       "      <td>2089</td>\n",
       "      <td>2223</td>\n",
       "      <td>2225</td>\n",
       "    </tr>\n",
       "    <tr>\n",
       "      <th>2017</th>\n",
       "      <td>2251</td>\n",
       "      <td>2251</td>\n",
       "      <td>2251</td>\n",
       "      <td>2247</td>\n",
       "      <td>2245</td>\n",
       "      <td>2174</td>\n",
       "      <td>2100</td>\n",
       "      <td>2247</td>\n",
       "      <td>2251</td>\n",
       "    </tr>\n",
       "    <tr>\n",
       "      <th>2018</th>\n",
       "      <td>2079</td>\n",
       "      <td>2079</td>\n",
       "      <td>2079</td>\n",
       "      <td>2073</td>\n",
       "      <td>2075</td>\n",
       "      <td>2001</td>\n",
       "      <td>1958</td>\n",
       "      <td>2071</td>\n",
       "      <td>2079</td>\n",
       "    </tr>\n",
       "    <tr>\n",
       "      <th>2019</th>\n",
       "      <td>1114</td>\n",
       "      <td>1114</td>\n",
       "      <td>1114</td>\n",
       "      <td>1108</td>\n",
       "      <td>1113</td>\n",
       "      <td>1072</td>\n",
       "      <td>1051</td>\n",
       "      <td>1112</td>\n",
       "      <td>1114</td>\n",
       "    </tr>\n",
       "  </tbody>\n",
       "</table>\n",
       "<p>110 rows × 9 columns</p>\n",
       "</div>"
      ],
      "text/plain": [
       "      title  genre  duration  country  director  writer  production_company  \\\n",
       "year                                                                          \n",
       "1906      1      1         1        1         1       1                   1   \n",
       "1911      2      2         2        2         2       2                   1   \n",
       "1912      5      5         5        5         5       5                   5   \n",
       "1913      7      7         7        7         7       7                   7   \n",
       "1914     17     17        17       17        17      17                  17   \n",
       "1915     15     15        15       15        15      15                  15   \n",
       "1916     25     25        25       25        25      25                  24   \n",
       "1917     18     18        18       18        18      18                  17   \n",
       "1918     20     20        20       20        20      20                  20   \n",
       "1919     38     38        38       38        38      38                  38   \n",
       "1920     32     32        32       32        32      32                  30   \n",
       "1921     36     36        36       36        36      36                  36   \n",
       "1922     28     28        28       28        28      28                  28   \n",
       "1923     27     27        27       27        27      26                  27   \n",
       "1924     35     35        35       35        35      35                  35   \n",
       "1925     53     53        53       53        53      53                  53   \n",
       "1926     54     54        54       54        54      53                  53   \n",
       "1927     55     55        55       55        55      55                  55   \n",
       "1928     69     69        69       69        69      69                  69   \n",
       "1929     88     88        88       88        88      87                  88   \n",
       "1930    127    127       127      126       126     126                 125   \n",
       "1931    164    164       164      164       164     164                 164   \n",
       "1932    168    168       168      168       168     168                 168   \n",
       "1933    186    186       186      186       186     185                 185   \n",
       "1934    189    189       189      189       189     187                 188   \n",
       "1935    193    193       193      193       193     191                 193   \n",
       "1936    207    207       207      207       207     205                 207   \n",
       "1937    214    214       214      214       214     214                 212   \n",
       "1938    186    186       186      186       186     186                 185   \n",
       "1939    215    215       215      215       214     214                 214   \n",
       "...     ...    ...       ...      ...       ...     ...                 ...   \n",
       "1990    571    571       571      571       569     560                 528   \n",
       "1991    544    544       544      544       544     534                 498   \n",
       "1992    568    568       568      568       568     545                 508   \n",
       "1993    574    574       574      574       574     556                 530   \n",
       "1994    649    649       649      649       649     638                 602   \n",
       "1995    677    677       677      677       676     669                 627   \n",
       "1996    687    687       687      687       687     679                 628   \n",
       "1997    801    801       801      801       801     788                 743   \n",
       "1998    832    832       832      832       831     815                 762   \n",
       "1999    999    999       999      999       996     972                 906   \n",
       "2000    950    950       950      950       950     933                 883   \n",
       "2001   1070   1070      1070     1070      1069    1051                 995   \n",
       "2002    997    997       997      997       996     980                 936   \n",
       "2003   1022   1022      1022     1022      1021    1000                 950   \n",
       "2004   1199   1199      1199     1199      1198    1180                1126   \n",
       "2005   1317   1317      1317     1317      1317    1292                1246   \n",
       "2006   1496   1496      1496     1496      1496    1473                1448   \n",
       "2007   1483   1483      1483     1483      1482    1464                1432   \n",
       "2008   1567   1567      1567     1567      1566    1534                1503   \n",
       "2009   1648   1648      1648     1648      1646    1629                1595   \n",
       "2010   1640   1640      1640     1640      1638    1609                1541   \n",
       "2011   1695   1695      1695     1695      1694    1663                1588   \n",
       "2012   1805   1805      1805     1805      1801    1773                1683   \n",
       "2013   2013   2013      2013     2011      2010    1969                1885   \n",
       "2014   2081   2081      2081     2077      2074    2023                1938   \n",
       "2015   2132   2132      2132     2129      2128    2080                1990   \n",
       "2016   2225   2225      2225     2222      2219    2176                2089   \n",
       "2017   2251   2251      2251     2247      2245    2174                2100   \n",
       "2018   2079   2079      2079     2073      2075    2001                1958   \n",
       "2019   1114   1114      1114     1108      1113    1072                1051   \n",
       "\n",
       "      actors  avg_vote  \n",
       "year                    \n",
       "1906       1         1  \n",
       "1911       2         2  \n",
       "1912       5         5  \n",
       "1913       7         7  \n",
       "1914      17        17  \n",
       "1915      15        15  \n",
       "1916      25        25  \n",
       "1917      18        18  \n",
       "1918      20        20  \n",
       "1919      38        38  \n",
       "1920      32        32  \n",
       "1921      36        36  \n",
       "1922      28        28  \n",
       "1923      27        27  \n",
       "1924      35        35  \n",
       "1925      53        53  \n",
       "1926      54        54  \n",
       "1927      55        55  \n",
       "1928      69        69  \n",
       "1929      88        88  \n",
       "1930     126       127  \n",
       "1931     164       164  \n",
       "1932     168       168  \n",
       "1933     186       186  \n",
       "1934     189       189  \n",
       "1935     193       193  \n",
       "1936     207       207  \n",
       "1937     214       214  \n",
       "1938     186       186  \n",
       "1939     215       215  \n",
       "...      ...       ...  \n",
       "1990     570       571  \n",
       "1991     544       544  \n",
       "1992     568       568  \n",
       "1993     574       574  \n",
       "1994     649       649  \n",
       "1995     677       677  \n",
       "1996     687       687  \n",
       "1997     801       801  \n",
       "1998     832       832  \n",
       "1999     998       999  \n",
       "2000     950       950  \n",
       "2001    1070      1070  \n",
       "2002     997       997  \n",
       "2003    1022      1022  \n",
       "2004    1199      1199  \n",
       "2005    1317      1317  \n",
       "2006    1494      1496  \n",
       "2007    1481      1483  \n",
       "2008    1567      1567  \n",
       "2009    1646      1648  \n",
       "2010    1638      1640  \n",
       "2011    1694      1695  \n",
       "2012    1804      1805  \n",
       "2013    2011      2013  \n",
       "2014    2077      2081  \n",
       "2015    2131      2132  \n",
       "2016    2223      2225  \n",
       "2017    2247      2251  \n",
       "2018    2071      2079  \n",
       "2019    1112      1114  \n",
       "\n",
       "[110 rows x 9 columns]"
      ]
     },
     "execution_count": 32,
     "metadata": {},
     "output_type": "execute_result"
    }
   ],
   "source": [
    "years_grouped"
   ]
  },
  {
   "cell_type": "code",
   "execution_count": 33,
   "metadata": {},
   "outputs": [],
   "source": [
    "df_vote = df.sort_values(by = 'avg_vote',ascending=False)"
   ]
  },
  {
   "cell_type": "code",
   "execution_count": 34,
   "metadata": {},
   "outputs": [],
   "source": [
    "rating = df_vote[0:10] #get the 1st 10 values"
   ]
  },
  {
   "cell_type": "code",
   "execution_count": 35,
   "metadata": {},
   "outputs": [
    {
     "data": {
      "text/html": [
       "<div>\n",
       "<style scoped>\n",
       "    .dataframe tbody tr th:only-of-type {\n",
       "        vertical-align: middle;\n",
       "    }\n",
       "\n",
       "    .dataframe tbody tr th {\n",
       "        vertical-align: top;\n",
       "    }\n",
       "\n",
       "    .dataframe thead th {\n",
       "        text-align: right;\n",
       "    }\n",
       "</style>\n",
       "<table border=\"1\" class=\"dataframe\">\n",
       "  <thead>\n",
       "    <tr style=\"text-align: right;\">\n",
       "      <th></th>\n",
       "      <th>title</th>\n",
       "      <th>year</th>\n",
       "      <th>avg_vote</th>\n",
       "    </tr>\n",
       "  </thead>\n",
       "  <tbody>\n",
       "    <tr>\n",
       "      <th>0</th>\n",
       "      <td>Kirket</td>\n",
       "      <td>2019</td>\n",
       "      <td>10.0</td>\n",
       "    </tr>\n",
       "    <tr>\n",
       "      <th>1</th>\n",
       "      <td>Love in Kilnerry</td>\n",
       "      <td>2019</td>\n",
       "      <td>10.0</td>\n",
       "    </tr>\n",
       "    <tr>\n",
       "      <th>2</th>\n",
       "      <td>Gini Helida Kathe</td>\n",
       "      <td>2019</td>\n",
       "      <td>9.8</td>\n",
       "    </tr>\n",
       "    <tr>\n",
       "      <th>3</th>\n",
       "      <td>Runam</td>\n",
       "      <td>2019</td>\n",
       "      <td>9.7</td>\n",
       "    </tr>\n",
       "    <tr>\n",
       "      <th>4</th>\n",
       "      <td>Fan</td>\n",
       "      <td>2019</td>\n",
       "      <td>9.6</td>\n",
       "    </tr>\n",
       "    <tr>\n",
       "      <th>5</th>\n",
       "      <td>Android Kunjappan Version 5.25</td>\n",
       "      <td>2019</td>\n",
       "      <td>9.6</td>\n",
       "    </tr>\n",
       "    <tr>\n",
       "      <th>6</th>\n",
       "      <td>Yeh Suhaagraat Impossible</td>\n",
       "      <td>2019</td>\n",
       "      <td>9.5</td>\n",
       "    </tr>\n",
       "    <tr>\n",
       "      <th>7</th>\n",
       "      <td>The Brighton Miracle</td>\n",
       "      <td>2019</td>\n",
       "      <td>9.5</td>\n",
       "    </tr>\n",
       "    <tr>\n",
       "      <th>8</th>\n",
       "      <td>Safe</td>\n",
       "      <td>2019</td>\n",
       "      <td>9.5</td>\n",
       "    </tr>\n",
       "    <tr>\n",
       "      <th>9</th>\n",
       "      <td>Ananthu V/S Nusrath</td>\n",
       "      <td>2018</td>\n",
       "      <td>9.4</td>\n",
       "    </tr>\n",
       "  </tbody>\n",
       "</table>\n",
       "</div>"
      ],
      "text/plain": [
       "                            title  year  avg_vote\n",
       "0                          Kirket  2019      10.0\n",
       "1                Love in Kilnerry  2019      10.0\n",
       "2               Gini Helida Kathe  2019       9.8\n",
       "3                           Runam  2019       9.7\n",
       "4                             Fan  2019       9.6\n",
       "5  Android Kunjappan Version 5.25  2019       9.6\n",
       "6       Yeh Suhaagraat Impossible  2019       9.5\n",
       "7            The Brighton Miracle  2019       9.5\n",
       "8                            Safe  2019       9.5\n",
       "9             Ananthu V/S Nusrath  2018       9.4"
      ]
     },
     "execution_count": 35,
     "metadata": {},
     "output_type": "execute_result"
    }
   ],
   "source": [
    "rating[['title','year','avg_vote']].reset_index(drop=True)"
   ]
  },
  {
   "cell_type": "code",
   "execution_count": 36,
   "metadata": {},
   "outputs": [],
   "source": [
    "df['country']= df['country'].astype('str')"
   ]
  },
  {
   "cell_type": "code",
   "execution_count": 37,
   "metadata": {},
   "outputs": [
    {
     "data": {
      "text/plain": [
       "<matplotlib.axes._subplots.AxesSubplot at 0x7f945a192978>"
      ]
     },
     "execution_count": 37,
     "metadata": {},
     "output_type": "execute_result"
    },
    {
     "data": {
      "image/png": "[encoded data removed]",
      "text/plain": [
       "<Figure size 1008x432 with 1 Axes>"
      ]
     },
     "metadata": {
      "needs_background": "light"
     },
     "output_type": "display_data"
    }
   ],
   "source": [
    "temp = df['country'].value_counts().head(15)\n",
    "temp.plot(kind='bar',figsize=(14,6),rot='0')"
   ]
  },
  {
   "cell_type": "code",
   "execution_count": 38,
   "metadata": {},
   "outputs": [
    {
     "data": {
      "text/html": [
       "<div>\n",
       "<style scoped>\n",
       "    .dataframe tbody tr th:only-of-type {\n",
       "        vertical-align: middle;\n",
       "    }\n",
       "\n",
       "    .dataframe tbody tr th {\n",
       "        vertical-align: top;\n",
       "    }\n",
       "\n",
       "    .dataframe thead th {\n",
       "        text-align: right;\n",
       "    }\n",
       "</style>\n",
       "<table border=\"1\" class=\"dataframe\">\n",
       "  <thead>\n",
       "    <tr style=\"text-align: right;\">\n",
       "      <th></th>\n",
       "      <th>country</th>\n",
       "      <th>count</th>\n",
       "    </tr>\n",
       "  </thead>\n",
       "  <tbody>\n",
       "    <tr>\n",
       "      <th>0</th>\n",
       "      <td>USA</td>\n",
       "      <td>20055</td>\n",
       "    </tr>\n",
       "    <tr>\n",
       "      <th>1</th>\n",
       "      <td>India</td>\n",
       "      <td>4013</td>\n",
       "    </tr>\n",
       "    <tr>\n",
       "      <th>2</th>\n",
       "      <td>UK</td>\n",
       "      <td>2819</td>\n",
       "    </tr>\n",
       "    <tr>\n",
       "      <th>3</th>\n",
       "      <td>France</td>\n",
       "      <td>2193</td>\n",
       "    </tr>\n",
       "    <tr>\n",
       "      <th>4</th>\n",
       "      <td>Japan</td>\n",
       "      <td>2041</td>\n",
       "    </tr>\n",
       "    <tr>\n",
       "      <th>5</th>\n",
       "      <td>Italy</td>\n",
       "      <td>1657</td>\n",
       "    </tr>\n",
       "    <tr>\n",
       "      <th>6</th>\n",
       "      <td>Canada</td>\n",
       "      <td>1232</td>\n",
       "    </tr>\n",
       "    <tr>\n",
       "      <th>7</th>\n",
       "      <td>Germany</td>\n",
       "      <td>974</td>\n",
       "    </tr>\n",
       "    <tr>\n",
       "      <th>8</th>\n",
       "      <td>Turkey</td>\n",
       "      <td>896</td>\n",
       "    </tr>\n",
       "    <tr>\n",
       "      <th>9</th>\n",
       "      <td>Hong Kong</td>\n",
       "      <td>877</td>\n",
       "    </tr>\n",
       "    <tr>\n",
       "      <th>10</th>\n",
       "      <td>Spain</td>\n",
       "      <td>810</td>\n",
       "    </tr>\n",
       "    <tr>\n",
       "      <th>11</th>\n",
       "      <td>South Korea</td>\n",
       "      <td>763</td>\n",
       "    </tr>\n",
       "    <tr>\n",
       "      <th>12</th>\n",
       "      <td>Soviet Union</td>\n",
       "      <td>542</td>\n",
       "    </tr>\n",
       "    <tr>\n",
       "      <th>13</th>\n",
       "      <td>Russia</td>\n",
       "      <td>529</td>\n",
       "    </tr>\n",
       "    <tr>\n",
       "      <th>14</th>\n",
       "      <td>Australia</td>\n",
       "      <td>529</td>\n",
       "    </tr>\n",
       "  </tbody>\n",
       "</table>\n",
       "</div>"
      ],
      "text/plain": [
       "         country  count\n",
       "0            USA  20055\n",
       "1          India   4013\n",
       "2             UK   2819\n",
       "3         France   2193\n",
       "4          Japan   2041\n",
       "5          Italy   1657\n",
       "6         Canada   1232\n",
       "7        Germany    974\n",
       "8         Turkey    896\n",
       "9      Hong Kong    877\n",
       "10         Spain    810\n",
       "11   South Korea    763\n",
       "12  Soviet Union    542\n",
       "13        Russia    529\n",
       "14     Australia    529"
      ]
     },
     "execution_count": 38,
     "metadata": {},
     "output_type": "execute_result"
    }
   ],
   "source": [
    "temp=temp.reset_index()\n",
    "temp.columns=['country','count']\n",
    "temp"
   ]
  },
  {
   "cell_type": "code",
   "execution_count": 39,
   "metadata": {},
   "outputs": [],
   "source": [
    "countries=temp['country'].unique()"
   ]
  },
  {
   "cell_type": "code",
   "execution_count": 40,
   "metadata": {},
   "outputs": [
    {
     "data": {
      "text/plain": [
       "array(['USA', 'India', 'UK', 'France', 'Japan', 'Italy', 'Canada',\n",
       "       'Germany', 'Turkey', 'Hong Kong', 'Spain', 'South Korea',\n",
       "       'Soviet Union', 'Russia', 'Australia'], dtype=object)"
      ]
     },
     "execution_count": 40,
     "metadata": {},
     "output_type": "execute_result"
    }
   ],
   "source": [
    "countries"
   ]
  },
  {
   "cell_type": "markdown",
   "metadata": {},
   "source": [
    "### Top rated movie that has ratings on imdb and is available on netflix? (Use imdb Ratings dataset, imdb movies dataset and Netflix dataset)"
   ]
  },
  {
   "cell_type": "code",
   "execution_count": 41,
   "metadata": {},
   "outputs": [],
   "source": [
    "joined= pd.merge(df,df_netflix,on='title') # content available on netflix"
   ]
  },
  {
   "cell_type": "code",
   "execution_count": 42,
   "metadata": {},
   "outputs": [
    {
     "data": {
      "text/plain": [
       "(1600, 21)"
      ]
     },
     "execution_count": 42,
     "metadata": {},
     "output_type": "execute_result"
    }
   ],
   "source": [
    "joined.shape"
   ]
  },
  {
   "cell_type": "code",
   "execution_count": 43,
   "metadata": {},
   "outputs": [
    {
     "data": {
      "text/plain": [
       "Index(['title', 'year', 'genre', 'duration_x', 'country_x', 'director_x',\n",
       "       'writer', 'production_company', 'actors', 'avg_vote', 'show_id', 'type',\n",
       "       'director_y', 'cast', 'country_y', 'date_added', 'release_year',\n",
       "       'rating', 'duration_y', 'listed_in', 'description'],\n",
       "      dtype='object')"
      ]
     },
     "execution_count": 43,
     "metadata": {},
     "output_type": "execute_result"
    }
   ],
   "source": [
    "joined.columns"
   ]
  },
  {
   "cell_type": "code",
   "execution_count": 44,
   "metadata": {},
   "outputs": [],
   "source": [
    "joined = joined[joined['avg_vote'].notnull()]"
   ]
  },
  {
   "cell_type": "code",
   "execution_count": 45,
   "metadata": {},
   "outputs": [
    {
     "data": {
      "text/plain": [
       "(1600, 21)"
      ]
     },
     "execution_count": 45,
     "metadata": {},
     "output_type": "execute_result"
    }
   ],
   "source": [
    "joined.shape"
   ]
  },
  {
   "cell_type": "code",
   "execution_count": 46,
   "metadata": {},
   "outputs": [
    {
     "data": {
      "text/html": [
       "<div>\n",
       "<style scoped>\n",
       "    .dataframe tbody tr th:only-of-type {\n",
       "        vertical-align: middle;\n",
       "    }\n",
       "\n",
       "    .dataframe tbody tr th {\n",
       "        vertical-align: top;\n",
       "    }\n",
       "\n",
       "    .dataframe thead th {\n",
       "        text-align: right;\n",
       "    }\n",
       "</style>\n",
       "<table border=\"1\" class=\"dataframe\">\n",
       "  <thead>\n",
       "    <tr style=\"text-align: right;\">\n",
       "      <th></th>\n",
       "      <th>title</th>\n",
       "      <th>year</th>\n",
       "      <th>avg_vote</th>\n",
       "    </tr>\n",
       "  </thead>\n",
       "  <tbody>\n",
       "    <tr>\n",
       "      <th>0</th>\n",
       "      <td>Oththa Seruppu Size 7</td>\n",
       "      <td>2019</td>\n",
       "      <td>9.1</td>\n",
       "    </tr>\n",
       "    <tr>\n",
       "      <th>1</th>\n",
       "      <td>Schindler's List</td>\n",
       "      <td>1993</td>\n",
       "      <td>8.9</td>\n",
       "    </tr>\n",
       "    <tr>\n",
       "      <th>2</th>\n",
       "      <td>Merku Thodarchi Malai</td>\n",
       "      <td>2018</td>\n",
       "      <td>8.8</td>\n",
       "    </tr>\n",
       "    <tr>\n",
       "      <th>3</th>\n",
       "      <td>Inception</td>\n",
       "      <td>2010</td>\n",
       "      <td>8.8</td>\n",
       "    </tr>\n",
       "    <tr>\n",
       "      <th>4</th>\n",
       "      <td>Eh Janam Tumhare Lekhe</td>\n",
       "      <td>2015</td>\n",
       "      <td>8.7</td>\n",
       "    </tr>\n",
       "    <tr>\n",
       "      <th>5</th>\n",
       "      <td>The Irishman</td>\n",
       "      <td>2019</td>\n",
       "      <td>8.7</td>\n",
       "    </tr>\n",
       "    <tr>\n",
       "      <th>6</th>\n",
       "      <td>Koshish</td>\n",
       "      <td>1972</td>\n",
       "      <td>8.6</td>\n",
       "    </tr>\n",
       "    <tr>\n",
       "      <th>7</th>\n",
       "      <td>Masoom</td>\n",
       "      <td>1983</td>\n",
       "      <td>8.5</td>\n",
       "    </tr>\n",
       "    <tr>\n",
       "      <th>8</th>\n",
       "      <td>Guru</td>\n",
       "      <td>1997</td>\n",
       "      <td>8.5</td>\n",
       "    </tr>\n",
       "    <tr>\n",
       "      <th>9</th>\n",
       "      <td>American History X</td>\n",
       "      <td>1998</td>\n",
       "      <td>8.5</td>\n",
       "    </tr>\n",
       "  </tbody>\n",
       "</table>\n",
       "</div>"
      ],
      "text/plain": [
       "                    title  year  avg_vote\n",
       "0   Oththa Seruppu Size 7  2019       9.1\n",
       "1        Schindler's List  1993       8.9\n",
       "2   Merku Thodarchi Malai  2018       8.8\n",
       "3               Inception  2010       8.8\n",
       "4  Eh Janam Tumhare Lekhe  2015       8.7\n",
       "5            The Irishman  2019       8.7\n",
       "6                 Koshish  1972       8.6\n",
       "7                  Masoom  1983       8.5\n",
       "8                    Guru  1997       8.5\n",
       "9      American History X  1998       8.5"
      ]
     },
     "execution_count": 46,
     "metadata": {},
     "output_type": "execute_result"
    }
   ],
   "source": [
    "df_vote = joined.sort_values(by = 'avg_vote',ascending=False)\n",
    "rating = df_vote[0:10] #get the 1st 10 values\n",
    "rating[['title','year','avg_vote']].reset_index(drop=True)"
   ]
  },
  {
   "cell_type": "markdown",
   "metadata": {},
   "source": [
    "The above data represents the Top rated movie that has ratings on imdb and is available on netflix."
   ]
  },
  {
   "cell_type": "markdown",
   "metadata": {},
   "source": [
    "### Name the country that has the second highest rated content. (Use imdb Ratings dataset, imdb movies dataset and Netflix dataset)"
   ]
  },
  {
   "cell_type": "code",
   "execution_count": 47,
   "metadata": {},
   "outputs": [],
   "source": [
    "df_grouped = df.groupby('country')"
   ]
  },
  {
   "cell_type": "code",
   "execution_count": 48,
   "metadata": {},
   "outputs": [],
   "source": [
    "rating={}\n",
    "for i in countries:\n",
    "    data=df_grouped.get_group(i)\n",
    "    rating[i]=round(data['avg_vote'].mean(),2)"
   ]
  },
  {
   "cell_type": "code",
   "execution_count": 49,
   "metadata": {},
   "outputs": [
    {
     "data": {
      "text/html": [
       "<div>\n",
       "<style scoped>\n",
       "    .dataframe tbody tr th:only-of-type {\n",
       "        vertical-align: middle;\n",
       "    }\n",
       "\n",
       "    .dataframe tbody tr th {\n",
       "        vertical-align: top;\n",
       "    }\n",
       "\n",
       "    .dataframe thead th {\n",
       "        text-align: right;\n",
       "    }\n",
       "</style>\n",
       "<table border=\"1\" class=\"dataframe\">\n",
       "  <thead>\n",
       "    <tr style=\"text-align: right;\">\n",
       "      <th></th>\n",
       "      <th>Country</th>\n",
       "      <th>Rating</th>\n",
       "    </tr>\n",
       "  </thead>\n",
       "  <tbody>\n",
       "    <tr>\n",
       "      <th>0</th>\n",
       "      <td>Soviet Union</td>\n",
       "      <td>7.10</td>\n",
       "    </tr>\n",
       "    <tr>\n",
       "      <th>1</th>\n",
       "      <td>Japan</td>\n",
       "      <td>6.54</td>\n",
       "    </tr>\n",
       "    <tr>\n",
       "      <th>2</th>\n",
       "      <td>South Korea</td>\n",
       "      <td>6.42</td>\n",
       "    </tr>\n",
       "    <tr>\n",
       "      <th>3</th>\n",
       "      <td>India</td>\n",
       "      <td>6.28</td>\n",
       "    </tr>\n",
       "    <tr>\n",
       "      <th>4</th>\n",
       "      <td>France</td>\n",
       "      <td>6.14</td>\n",
       "    </tr>\n",
       "    <tr>\n",
       "      <th>5</th>\n",
       "      <td>Hong Kong</td>\n",
       "      <td>6.11</td>\n",
       "    </tr>\n",
       "    <tr>\n",
       "      <th>6</th>\n",
       "      <td>Turkey</td>\n",
       "      <td>5.93</td>\n",
       "    </tr>\n",
       "    <tr>\n",
       "      <th>7</th>\n",
       "      <td>Germany</td>\n",
       "      <td>5.92</td>\n",
       "    </tr>\n",
       "    <tr>\n",
       "      <th>8</th>\n",
       "      <td>Italy</td>\n",
       "      <td>5.87</td>\n",
       "    </tr>\n",
       "    <tr>\n",
       "      <th>9</th>\n",
       "      <td>Spain</td>\n",
       "      <td>5.81</td>\n",
       "    </tr>\n",
       "    <tr>\n",
       "      <th>10</th>\n",
       "      <td>UK</td>\n",
       "      <td>5.80</td>\n",
       "    </tr>\n",
       "    <tr>\n",
       "      <th>11</th>\n",
       "      <td>Australia</td>\n",
       "      <td>5.71</td>\n",
       "    </tr>\n",
       "    <tr>\n",
       "      <th>12</th>\n",
       "      <td>Russia</td>\n",
       "      <td>5.68</td>\n",
       "    </tr>\n",
       "    <tr>\n",
       "      <th>13</th>\n",
       "      <td>USA</td>\n",
       "      <td>5.60</td>\n",
       "    </tr>\n",
       "    <tr>\n",
       "      <th>14</th>\n",
       "      <td>Canada</td>\n",
       "      <td>5.43</td>\n",
       "    </tr>\n",
       "  </tbody>\n",
       "</table>\n",
       "</div>"
      ],
      "text/plain": [
       "         Country  Rating\n",
       "0   Soviet Union    7.10\n",
       "1          Japan    6.54\n",
       "2    South Korea    6.42\n",
       "3          India    6.28\n",
       "4         France    6.14\n",
       "5      Hong Kong    6.11\n",
       "6         Turkey    5.93\n",
       "7        Germany    5.92\n",
       "8          Italy    5.87\n",
       "9          Spain    5.81\n",
       "10            UK    5.80\n",
       "11     Australia    5.71\n",
       "12        Russia    5.68\n",
       "13           USA    5.60\n",
       "14        Canada    5.43"
      ]
     },
     "execution_count": 49,
     "metadata": {},
     "output_type": "execute_result"
    }
   ],
   "source": [
    "country_ratings=pd.DataFrame(rating.items(), columns=['Country', 'Rating'])\n",
    "country_ratings.sort_values(by=['Rating'], inplace=True,ascending=False)\n",
    "country_ratings.reset_index(drop=True)"
   ]
  },
  {
   "cell_type": "markdown",
   "metadata": {},
   "source": [
    "Ans: <b>Japan</b> has the second Highest rated content"
   ]
  },
  {
   "cell_type": "markdown",
   "metadata": {},
   "source": [
    "### Recommender System"
   ]
  },
  {
   "cell_type": "code",
   "execution_count": 51,
   "metadata": {},
   "outputs": [
    {
     "data": {
      "text/html": [
       "<div>\n",
       "<style scoped>\n",
       "    .dataframe tbody tr th:only-of-type {\n",
       "        vertical-align: middle;\n",
       "    }\n",
       "\n",
       "    .dataframe tbody tr th {\n",
       "        vertical-align: top;\n",
       "    }\n",
       "\n",
       "    .dataframe thead th {\n",
       "        text-align: right;\n",
       "    }\n",
       "</style>\n",
       "<table border=\"1\" class=\"dataframe\">\n",
       "  <thead>\n",
       "    <tr style=\"text-align: right;\">\n",
       "      <th></th>\n",
       "      <th>show_id</th>\n",
       "      <th>type</th>\n",
       "      <th>title</th>\n",
       "      <th>director</th>\n",
       "      <th>cast</th>\n",
       "      <th>country</th>\n",
       "      <th>date_added</th>\n",
       "      <th>release_year</th>\n",
       "      <th>rating</th>\n",
       "      <th>duration</th>\n",
       "      <th>listed_in</th>\n",
       "      <th>description</th>\n",
       "    </tr>\n",
       "  </thead>\n",
       "  <tbody>\n",
       "    <tr>\n",
       "      <th>0</th>\n",
       "      <td>81088285</td>\n",
       "      <td>Movie</td>\n",
       "      <td>The Mayo Clinic</td>\n",
       "      <td>Ken Burns, Christopher Loren Ewers, Erik Ewers</td>\n",
       "      <td>Peter Coyote</td>\n",
       "      <td>United States</td>\n",
       "      <td>April</td>\n",
       "      <td>2018</td>\n",
       "      <td>TV-14</td>\n",
       "      <td>116 min</td>\n",
       "      <td>Documentaries</td>\n",
       "      <td>A look at how a world-renowned medical institu...</td>\n",
       "    </tr>\n",
       "    <tr>\n",
       "      <th>1</th>\n",
       "      <td>81077597</td>\n",
       "      <td>Movie</td>\n",
       "      <td>I Am</td>\n",
       "      <td>Onir</td>\n",
       "      <td>Juhi Chawla, Rahul Bose, Nandita Das, Sanjay S...</td>\n",
       "      <td>India, Japan</td>\n",
       "      <td>March</td>\n",
       "      <td>2010</td>\n",
       "      <td>TV-MA</td>\n",
       "      <td>106 min</td>\n",
       "      <td>Dramas, Independent Movies, International Movies</td>\n",
       "      <td>Four individuals in modern India grapple with ...</td>\n",
       "    </tr>\n",
       "    <tr>\n",
       "      <th>2</th>\n",
       "      <td>1150871</td>\n",
       "      <td>Movie</td>\n",
       "      <td>Love Jones</td>\n",
       "      <td>Theodore Witcher</td>\n",
       "      <td>Larenz Tate, Nia Long, Isaiah Washington, Lisa...</td>\n",
       "      <td>United States</td>\n",
       "      <td>November</td>\n",
       "      <td>1997</td>\n",
       "      <td>R</td>\n",
       "      <td>109 min</td>\n",
       "      <td>Comedies, Dramas, Independent Movies</td>\n",
       "      <td>In this urban romantic comedy set in Chicago, ...</td>\n",
       "    </tr>\n",
       "    <tr>\n",
       "      <th>3</th>\n",
       "      <td>20077944</td>\n",
       "      <td>Movie</td>\n",
       "      <td>Ghayal</td>\n",
       "      <td>Rajkumar Santoshi</td>\n",
       "      <td>Sunny Deol, Meenakshi Sheshadri, Amrish Puri, ...</td>\n",
       "      <td>India</td>\n",
       "      <td>December</td>\n",
       "      <td>1990</td>\n",
       "      <td>TV-14</td>\n",
       "      <td>163 min</td>\n",
       "      <td>Action &amp; Adventure, Dramas, International Movies</td>\n",
       "      <td>Framed for his older brother's murder, a boxer...</td>\n",
       "    </tr>\n",
       "    <tr>\n",
       "      <th>4</th>\n",
       "      <td>80223779</td>\n",
       "      <td>Movie</td>\n",
       "      <td>Marriage Story</td>\n",
       "      <td>Noah Baumbach</td>\n",
       "      <td>Scarlett Johansson, Adam Driver, Laura Dern, A...</td>\n",
       "      <td>United States, United Kingdom</td>\n",
       "      <td>December</td>\n",
       "      <td>2019</td>\n",
       "      <td>R</td>\n",
       "      <td>137 min</td>\n",
       "      <td>Dramas</td>\n",
       "      <td>Academy Award-nominated filmmaker Noah Baumbac...</td>\n",
       "    </tr>\n",
       "  </tbody>\n",
       "</table>\n",
       "</div>"
      ],
      "text/plain": [
       "    show_id   type            title  \\\n",
       "0  81088285  Movie  The Mayo Clinic   \n",
       "1  81077597  Movie             I Am   \n",
       "2   1150871  Movie       Love Jones   \n",
       "3  20077944  Movie           Ghayal   \n",
       "4  80223779  Movie   Marriage Story   \n",
       "\n",
       "                                         director  \\\n",
       "0  Ken Burns, Christopher Loren Ewers, Erik Ewers   \n",
       "1                                            Onir   \n",
       "2                                Theodore Witcher   \n",
       "3                               Rajkumar Santoshi   \n",
       "4                                   Noah Baumbach   \n",
       "\n",
       "                                                cast  \\\n",
       "0                                       Peter Coyote   \n",
       "1  Juhi Chawla, Rahul Bose, Nandita Das, Sanjay S...   \n",
       "2  Larenz Tate, Nia Long, Isaiah Washington, Lisa...   \n",
       "3  Sunny Deol, Meenakshi Sheshadri, Amrish Puri, ...   \n",
       "4  Scarlett Johansson, Adam Driver, Laura Dern, A...   \n",
       "\n",
       "                         country date_added  release_year rating duration  \\\n",
       "0                  United States      April          2018  TV-14  116 min   \n",
       "1                   India, Japan      March          2010  TV-MA  106 min   \n",
       "2                  United States   November          1997      R  109 min   \n",
       "3                          India   December          1990  TV-14  163 min   \n",
       "4  United States, United Kingdom   December          2019      R  137 min   \n",
       "\n",
       "                                          listed_in  \\\n",
       "0                                     Documentaries   \n",
       "1  Dramas, Independent Movies, International Movies   \n",
       "2              Comedies, Dramas, Independent Movies   \n",
       "3  Action & Adventure, Dramas, International Movies   \n",
       "4                                            Dramas   \n",
       "\n",
       "                                         description  \n",
       "0  A look at how a world-renowned medical institu...  \n",
       "1  Four individuals in modern India grapple with ...  \n",
       "2  In this urban romantic comedy set in Chicago, ...  \n",
       "3  Framed for his older brother's murder, a boxer...  \n",
       "4  Academy Award-nominated filmmaker Noah Baumbac...  "
      ]
     },
     "execution_count": 51,
     "metadata": {},
     "output_type": "execute_result"
    }
   ],
   "source": [
    "df_netflix.head()"
   ]
  },
  {
   "cell_type": "code",
   "execution_count": 52,
   "metadata": {},
   "outputs": [],
   "source": [
    "df = df_netflix[['title','director','listed_in','description']]"
   ]
  },
  {
   "cell_type": "code",
   "execution_count": 55,
   "metadata": {},
   "outputs": [
    {
     "data": {
      "text/html": [
       "<div>\n",
       "<style scoped>\n",
       "    .dataframe tbody tr th:only-of-type {\n",
       "        vertical-align: middle;\n",
       "    }\n",
       "\n",
       "    .dataframe tbody tr th {\n",
       "        vertical-align: top;\n",
       "    }\n",
       "\n",
       "    .dataframe thead th {\n",
       "        text-align: right;\n",
       "    }\n",
       "</style>\n",
       "<table border=\"1\" class=\"dataframe\">\n",
       "  <thead>\n",
       "    <tr style=\"text-align: right;\">\n",
       "      <th></th>\n",
       "      <th>title</th>\n",
       "      <th>director</th>\n",
       "      <th>genre</th>\n",
       "      <th>description</th>\n",
       "    </tr>\n",
       "  </thead>\n",
       "  <tbody>\n",
       "    <tr>\n",
       "      <th>0</th>\n",
       "      <td>The Mayo Clinic</td>\n",
       "      <td>Ken Burns, Christopher Loren Ewers, Erik Ewers</td>\n",
       "      <td>Documentaries</td>\n",
       "      <td>A look at how a world-renowned medical institu...</td>\n",
       "    </tr>\n",
       "    <tr>\n",
       "      <th>1</th>\n",
       "      <td>I Am</td>\n",
       "      <td>Onir</td>\n",
       "      <td>Dramas, Independent Movies, International Movies</td>\n",
       "      <td>Four individuals in modern India grapple with ...</td>\n",
       "    </tr>\n",
       "    <tr>\n",
       "      <th>2</th>\n",
       "      <td>Love Jones</td>\n",
       "      <td>Theodore Witcher</td>\n",
       "      <td>Comedies, Dramas, Independent Movies</td>\n",
       "      <td>In this urban romantic comedy set in Chicago, ...</td>\n",
       "    </tr>\n",
       "    <tr>\n",
       "      <th>3</th>\n",
       "      <td>Ghayal</td>\n",
       "      <td>Rajkumar Santoshi</td>\n",
       "      <td>Action &amp; Adventure, Dramas, International Movies</td>\n",
       "      <td>Framed for his older brother's murder, a boxer...</td>\n",
       "    </tr>\n",
       "    <tr>\n",
       "      <th>4</th>\n",
       "      <td>Marriage Story</td>\n",
       "      <td>Noah Baumbach</td>\n",
       "      <td>Dramas</td>\n",
       "      <td>Academy Award-nominated filmmaker Noah Baumbac...</td>\n",
       "    </tr>\n",
       "  </tbody>\n",
       "</table>\n",
       "</div>"
      ],
      "text/plain": [
       "             title                                        director  \\\n",
       "0  The Mayo Clinic  Ken Burns, Christopher Loren Ewers, Erik Ewers   \n",
       "1             I Am                                            Onir   \n",
       "2       Love Jones                                Theodore Witcher   \n",
       "3           Ghayal                               Rajkumar Santoshi   \n",
       "4   Marriage Story                                   Noah Baumbach   \n",
       "\n",
       "                                              genre  \\\n",
       "0                                     Documentaries   \n",
       "1  Dramas, Independent Movies, International Movies   \n",
       "2              Comedies, Dramas, Independent Movies   \n",
       "3  Action & Adventure, Dramas, International Movies   \n",
       "4                                            Dramas   \n",
       "\n",
       "                                         description  \n",
       "0  A look at how a world-renowned medical institu...  \n",
       "1  Four individuals in modern India grapple with ...  \n",
       "2  In this urban romantic comedy set in Chicago, ...  \n",
       "3  Framed for his older brother's murder, a boxer...  \n",
       "4  Academy Award-nominated filmmaker Noah Baumbac...  "
      ]
     },
     "execution_count": 55,
     "metadata": {},
     "output_type": "execute_result"
    }
   ],
   "source": [
    "df.columns=['title','director','genre','description']\n",
    "df.head()"
   ]
  },
  {
   "cell_type": "code",
   "execution_count": 56,
   "metadata": {},
   "outputs": [],
   "source": [
    "from sklearn.feature_extraction.text import TfidfVectorizer\n",
    "\n",
    "#Define a TF-IDF Vectorizer Object. Remove all english stop words such as 'the', 'a'\n",
    "tfidf = TfidfVectorizer(stop_words='english')\n",
    "\n",
    "#Replace NaN with an empty string\n",
    "df['description'] = df['description'].fillna('')"
   ]
  },
  {
   "cell_type": "code",
   "execution_count": 57,
   "metadata": {},
   "outputs": [
    {
     "data": {
      "text/plain": [
       "(4326, 13433)"
      ]
     },
     "execution_count": 57,
     "metadata": {},
     "output_type": "execute_result"
    }
   ],
   "source": [
    "from sklearn.metrics.pairwise import linear_kernel\n",
    "tfidf_matrix = tfidf.fit_transform(df['description'])\n",
    "\n",
    "#Output the shape of tfidf_matrix\n",
    "tfidf_matrix.shape\n"
   ]
  },
  {
   "cell_type": "code",
   "execution_count": 58,
   "metadata": {},
   "outputs": [],
   "source": [
    "cosine_sim =  linear_kernel(tfidf_matrix, tfidf_matrix, True)"
   ]
  },
  {
   "cell_type": "code",
   "execution_count": 59,
   "metadata": {},
   "outputs": [],
   "source": [
    "indices = pd.Series(df.index, index=df['title']).drop_duplicates()"
   ]
  },
  {
   "cell_type": "code",
   "execution_count": 60,
   "metadata": {},
   "outputs": [],
   "source": [
    "def get_recommendations(title, cosine_sim=cosine_sim):\n",
    "    # Get the index of the movie that matches the title\n",
    "    idx = indices[title]\n",
    "\n",
    "    # Get the pairwsie similarity scores of all movies with that movie\n",
    "    sim_scores = list(enumerate(cosine_sim[idx]))\n",
    "\n",
    "    # Sort the movies based on the similarity scores\n",
    "    sim_scores = sorted(sim_scores, key=lambda x: x[1], reverse=True)\n",
    "\n",
    "    # Get the scores of the 10 most similar movies\n",
    "    sim_scores = sim_scores[1:11]\n",
    "\n",
    "    # Get the movie indices\n",
    "    movie_indices = [i[0] for i in sim_scores]\n",
    "\n",
    "    # Return the top 10 most similar movies\n",
    "    return df['title'].iloc[movie_indices]"
   ]
  },
  {
   "cell_type": "code",
   "execution_count": 65,
   "metadata": {},
   "outputs": [
    {
     "name": "stdout",
     "output_type": "stream",
     "text": [
      "2926    The Bleeding Edge\n",
      "1724          Jersey Boys\n",
      "3486             End Game\n",
      "2105       Bride For Rent\n",
      "86        Madam Secretary\n",
      "Name: title, dtype: object\n"
     ]
    }
   ],
   "source": [
    "print(get_recommendations('The Mayo Clinic').head(5))"
   ]
  },
  {
   "cell_type": "markdown",
   "metadata": {},
   "source": [
    "As we can see, for the recommendation: \n",
    "\"Top 3 recommended movies for the movie The Mayo Clinic are  <b>The Bleeding Edge, Jersey Boys, End Game</b>"
   ]
  },
  {
   "cell_type": "code",
   "execution_count": null,
   "metadata": {},
   "outputs": [],
   "source": []
  },
  {
   "cell_type": "code",
   "execution_count": null,
   "metadata": {},
   "outputs": [],
   "source": []
  }
 ],
 "metadata": {
  "kernelspec": {
   "display_name": "Python 3.7.3 64-bit ('base': conda)",
   "language": "python",
   "name": "python37364bitbaseconda5fa6ef65aabe435e83eb42db00346061"
  },
  "language_info": {
   "codemirror_mode": {
    "name": "ipython",
    "version": 3
   },
   "file_extension": ".py",
   "mimetype": "text/x-python",
   "name": "python",
   "nbconvert_exporter": "python",
   "pygments_lexer": "ipython3",
   "version": "3.7.3"
  }
 },
 "nbformat": 4,
 "nbformat_minor": 2
}
